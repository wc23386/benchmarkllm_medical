{
 "cells": [
  {
   "cell_type": "markdown",
   "metadata": {},
   "source": [
    "This notebook will deal with the batch inference of medical healthcare question/answer dataset using LLaMA model.\n",
    "\n",
    "https://huggingface.co/datasets/Kabatubare/medical\n",
    "\n",
    "After the inference, the LLaMA answers will be evaluated using BLEU/ROUGE against the groundtruth answers "
   ]
  },
  {
   "cell_type": "code",
   "execution_count": 1,
   "metadata": {},
   "outputs": [],
   "source": [
    "import os"
   ]
  },
  {
   "cell_type": "code",
   "execution_count": 6,
   "metadata": {},
   "outputs": [
    {
     "name": "stdout",
     "output_type": "stream",
     "text": [
      "mps\n",
      "PyTorch version: 2.6.0\n",
      "MPS available: True\n",
      "MPS built: True\n"
     ]
    }
   ],
   "source": [
    "# os.environ[\"CUDA_VISIBLE_DEVICES\"] = \"7\"\n",
    "# If you want to use MPS (Apple Silicon)\n",
    "import torch\n",
    "\n",
    "# For Apple Silicon (M1/M2/M3) Macs\n",
    "if torch.backends.mps.is_available():\n",
    "    device = torch.device(\"mps\")\n",
    "# For Intel Macs or fallback\n",
    "else:\n",
    "    device = torch.device(\"cpu\")\n",
    "\n",
    "print(device)\n",
    "\n",
    "print(f\"PyTorch version: {torch.__version__}\")\n",
    "print(f\"MPS available: {torch.backends.mps.is_available()}\")\n",
    "print(f\"MPS built: {torch.backends.mps.is_built()}\")"
   ]
  },
  {
   "cell_type": "code",
   "execution_count": null,
   "metadata": {},
   "outputs": [],
   "source": [
    "import torch\n",
    "from transformers import AutoModelForCausalLM, AutoTokenizer\n",
    "from datasets import load_dataset\n",
    "from tqdm import tqdm\n",
    "import pandas as pd\n",
    "import numpy as np\n",
    "import pickle\n",
    "import evaluate"
   ]
  },
  {
   "cell_type": "markdown",
   "metadata": {},
   "source": [
    "### Get the Medical Healthcare dataset"
   ]
  },
  {
   "cell_type": "code",
   "execution_count": 4,
   "metadata": {},
   "outputs": [
    {
     "data": {
      "text/plain": [
       "Dataset({\n",
       "    features: ['Context', 'Question', 'Answer'],\n",
       "    num_rows: 23437\n",
       "})"
      ]
     },
     "execution_count": 4,
     "metadata": {},
     "output_type": "execute_result"
    }
   ],
   "source": [
    "dataset_name = \"Kabatubare/medical\"\n",
    "dataset = load_dataset(dataset_name, split=\"all\")\n",
    "dataset"
   ]
  },
  {
   "cell_type": "markdown",
   "metadata": {},
   "source": [
    "Reading one instance of dataset"
   ]
  },
  {
   "cell_type": "code",
   "execution_count": 12,
   "metadata": {},
   "outputs": [
    {
     "data": {
      "text/plain": [
       "{'Context': 'You are a medical knowledge assistant trained to provide information and guidance on various health-related topics.',\n",
       " 'Question': 'my 5 1/2-year-old son displays adhd symptoms for 20 days then for 10 days he has none. is it adhd or another condition?',\n",
       " 'Answer': \"adhd and bipolar mood disorder (bmd) can coexist or be mistaken for one another. bmd usually is not diagnosed until young adulthood. however studies have shown that the earlier a person is diagnosed with bmd the more likely he is to have been diagnosed with adhd previously. in this case i would just like to reiterate that there is not enough information to discuss either possibility for your son. you mentioned that he becomes hyperactive for 3 weeks but not what his behaviors are like during those 10 days. you also do not mention irritability or mood swings just adhd symptoms. keep documenting the symptoms you are concerned about including what goes on in the home and at school when you see changes in behavior (do you work those weeks does he visit a relative or have a different aide in the classroom). you also mentioned that this began 7 months ago. i would also urge you to think about what also might have changed in your son's life about that time. consulting your pediatrician or a child psychiatrist should help you unravel the mystery of your son's behavior.\"}"
      ]
     },
     "execution_count": 12,
     "metadata": {},
     "output_type": "execute_result"
    }
   ],
   "source": [
    "dataset[0]"
   ]
  },
  {
   "cell_type": "markdown",
   "metadata": {},
   "source": [
    "### Loading the LLaMA Model"
   ]
  },
  {
   "cell_type": "code",
   "execution_count": 13,
   "metadata": {},
   "outputs": [],
   "source": [
    "with open('hf_token.key', 'r') as f:\n",
    "    hf_token = f.read()\n",
    "\n",
    "model_id = \"meta-llama/Llama-3.2-3B-Instruct\""
   ]
  },
  {
   "cell_type": "markdown",
   "metadata": {},
   "source": [
    "Initializing the tokenizer"
   ]
  },
  {
   "cell_type": "code",
   "execution_count": 14,
   "metadata": {},
   "outputs": [],
   "source": [
    "tokenizer = AutoTokenizer.from_pretrained(model_id)\n",
    "tokenizer.pad_token = tokenizer.eos_token\n",
    "tokenizer.padding_side = \"left\"\n",
    "tokenizer.model_max_length = 4096"
   ]
  },
  {
   "cell_type": "markdown",
   "metadata": {},
   "source": [
    "Loading the model shards"
   ]
  },
  {
   "cell_type": "code",
   "execution_count": 15,
   "metadata": {},
   "outputs": [
    {
     "name": "stderr",
     "output_type": "stream",
     "text": [
      "Loading checkpoint shards: 100%|██████████| 2/2 [00:02<00:00,  1.31s/it]\n"
     ]
    }
   ],
   "source": [
    "model = AutoModelForCausalLM.from_pretrained(model_id, torch_dtype=torch.bfloat16, device_map=\"auto\") # Must be float32 for MacBooks!\n",
    "model.config.pad_token_id = tokenizer.pad_token_id # Updating the model config to use the special pad token"
   ]
  },
  {
   "cell_type": "markdown",
   "metadata": {},
   "source": [
    "Defining the `eos` token as the terminator to finish the sentences"
   ]
  },
  {
   "cell_type": "code",
   "execution_count": 16,
   "metadata": {},
   "outputs": [],
   "source": [
    "terminators = [\n",
    "    tokenizer.eos_token_id,\n",
    "    tokenizer.convert_tokens_to_ids(\"<|eot_id|>\")\n",
    "]"
   ]
  },
  {
   "cell_type": "markdown",
   "metadata": {},
   "source": [
    "Defining the function to get the LLaMA Responses"
   ]
  },
  {
   "cell_type": "code",
   "execution_count": 17,
   "metadata": {},
   "outputs": [],
   "source": [
    "def get_llama_response(question_inputs: str):\n",
    "    \n",
    "    llama_inputs = [[{\"role\": \"system\", \"content\": \"You are a medical knowledge assistant trained to provide information and guidance on various health-related topics.\"},\n",
    "                     {\"role\": \"user\", \"content\": question}] for question in question_inputs]\n",
    "\n",
    "    texts = tokenizer.apply_chat_template(llama_inputs, tokenize=False, add_generation_prompt=True)\n",
    "    inputs = tokenizer(texts, padding=\"longest\", truncation=True, return_tensors=\"pt\")\n",
    "    inputs = {key: val.to(model.device) for key, val in inputs.items()}\n",
    "    temp_texts = tokenizer.batch_decode(inputs['input_ids'], skip_special_tokens=True)\n",
    "    \n",
    "    gen_tokens = model.generate(\n",
    "        **inputs, \n",
    "        max_new_tokens=4096, \n",
    "        pad_token_id=tokenizer.pad_token_id, \n",
    "        eos_token_id=terminators,\n",
    "        do_sample=True,\n",
    "        temperature=0.7,\n",
    "        # top_p=0.9\n",
    "    )\n",
    "\n",
    "    gen_text = tokenizer.batch_decode(gen_tokens, skip_special_tokens=True)\n",
    "    gen_text = [i[len(temp_texts[idx]):] for idx, i in enumerate(gen_text)]\n",
    "    \n",
    "    return gen_text"
   ]
  },
  {
   "cell_type": "markdown",
   "metadata": {},
   "source": [
    "Preparing the batches of data"
   ]
  },
  {
   "cell_type": "code",
   "execution_count": 18,
   "metadata": {},
   "outputs": [],
   "source": [
    "batch_size = 100\n",
    "dataset_questions = dataset['Question']\n",
    "dataset_answers = dataset['Answer']\n",
    "batch_indices = np.arange(0, len(dataset_questions), batch_size)\n",
    "if batch_indices[-1] != len(dataset_questions):\n",
    "    batch_indices = np.append(batch_indices, len(dataset_questions))"
   ]
  },
  {
   "cell_type": "markdown",
   "metadata": {},
   "source": [
    "Running the batch inference to get responses from LLaMA\n",
    "\n",
    "Only run the following cell when new inferences are needed. Otherwise, keep it commented and move onto next section for evaluation"
   ]
  },
  {
   "cell_type": "code",
   "execution_count": null,
   "metadata": {},
   "outputs": [],
   "source": [
    "# question_list = []\n",
    "# answer_list = []\n",
    "# llama_responses = []\n",
    "# for i in tqdm(range(0, len(batch_indices) - 1)):\n",
    "#     questions_input = dataset_questions[batch_indices[i]:batch_indices[i+1]]\n",
    "#     orig_answers = dataset_answers[batch_indices[i]:batch_indices[i+1]]\n",
    "#     llama_resp = get_llama_response(questions_input)\n",
    "    \n",
    "#     question_list = question_list + questions_input\n",
    "#     answer_list = answer_list + orig_answers\n",
    "#     llama_responses = llama_responses + llama_resp\n",
    "\n",
    "# with open('phase1_kabatubare_medical/questions.pkl', 'wb') as file:\n",
    "#     pickle.dump(question_list, file)\n",
    "    \n",
    "# with open('phase1_kabatubare_medical/answers.pkl', 'wb') as file:\n",
    "#     pickle.dump(answer_list, file)\n",
    "\n",
    "# with open('phase1_kabatubare_medical/llama_resp.pkl', 'wb') as file:\n",
    "#     pickle.dump(llama_responses, file)"
   ]
  },
  {
   "cell_type": "markdown",
   "metadata": {},
   "source": [
    "### Evaluaing the LLaMA Responses\n",
    "\n",
    "Reading the questions, answers and LLaMA Responses for"
   ]
  },
  {
   "cell_type": "code",
   "execution_count": null,
   "metadata": {},
   "outputs": [],
   "source": [
    "with open('phase1_kabatubare_medical/questions.pkl', 'rb') as file:\n",
    "    question_list = pickle.load(file)\n",
    "    \n",
    "with open('phase1_kabatubare_medical/answers.pkl', 'rb') as file:\n",
    "    answer_list = pickle.load(file)\n",
    "\n",
    "with open('phase1_kabatubare_medical/llama_resp.pkl', 'rb') as file:\n",
    "    llama_responses = pickle.load(file)"
   ]
  },
  {
   "cell_type": "code",
   "execution_count": 6,
   "metadata": {},
   "outputs": [
    {
     "data": {
      "text/plain": [
       "['my 5 1/2-year-old son displays adhd symptoms for 20 days then for 10 days he has none. is it adhd or another condition?',\n",
       " 'my son has add and mild autism. he has been successfully on concerta for 6+ years. can you help with his weight loss?',\n",
       " 'my son is 13 and is depressed. he has been taking vyvanse for the last 3 years and never had a problem. can you help?',\n",
       " 'my 17-year-old has stopped taking concerta after 10 years. what affect will this have on his adhd?',\n",
       " \"i've been taking respa-ar for allergies. i can't seem to get it refilled. will it be back on the market soon?\",\n",
       " 'what is the role of a pharmacist in a community and how can he/she help a patient?',\n",
       " 'my daughter is 15 months old has had severe feeding issuesshe lives on applesauce and fruitmelts and formulatests normal. she has had feeding issues since birth formula refusal throwing up entire bottle 2 to 3 times a day she also has hip dysplsia so far medical test are normal what should i do what is the matter with my baby',\n",
       " 'does your body know how many calories you eat or can you eat regularly but <1200 cals a day? . i am trying to lose weight. i have always been able to skip eating but now i am eating \"something\" every few hours. i have lost weight but want to lose more. i don\\'t want my body to think it is starving if i don\\'t adhere to 1200 calories a day. as long as i give my body food every few hours regardless of the caloric content. is that enough to keep metabolizing? one example is: i eat a raw red pepper at about 50 calories for a mid morning snack. it is food in my body but very low in calories.',\n",
       " 'i have trouble swallowing pills. can my prescription be made into a liquid?',\n",
       " 'i need a list of foods that i can eat and list of foods to avoid with pancreatitis.']"
      ]
     },
     "execution_count": 6,
     "metadata": {},
     "output_type": "execute_result"
    }
   ],
   "source": [
    "question_list[0:10]"
   ]
  },
  {
   "cell_type": "code",
   "execution_count": 7,
   "metadata": {},
   "outputs": [
    {
     "data": {
      "text/plain": [
       "[\"adhd and bipolar mood disorder (bmd) can coexist or be mistaken for one another. bmd usually is not diagnosed until young adulthood. however studies have shown that the earlier a person is diagnosed with bmd the more likely he is to have been diagnosed with adhd previously. in this case i would just like to reiterate that there is not enough information to discuss either possibility for your son. you mentioned that he becomes hyperactive for 3 weeks but not what his behaviors are like during those 10 days. you also do not mention irritability or mood swings just adhd symptoms. keep documenting the symptoms you are concerned about including what goes on in the home and at school when you see changes in behavior (do you work those weeks does he visit a relative or have a different aide in the classroom). you also mentioned that this began 7 months ago. i would also urge you to think about what also might have changed in your son's life about that time. consulting your pediatrician or a child psychiatrist should help you unravel the mystery of your son's behavior.\",\n",
       " 'stimulants in general tend to decrease appetite in certain not all children. over time this side effect seems to lessen but as in the case of your son for some children it may persist. weight loss is the result of this appetite decrease and not consuming enough calories during the day. therefore since the medication is effective and at \"the perfect dose for him \" right now i would suggest that you work on increasing your son\\'s calorie intake. this however is often not an easy task! some suggestions include offering your son his preferred foods whenever he seems hungry; starting the day with a large calorie-laden breakfast early in the morning before the medication takes effect; increasing the calories in snacks during the day and at bedtime; and adding a high calorie supplement like ensure or shakes with ice cream etc. during the day. consult your pediatrician or a nutrionist to determine how many calories a day your son should be consuming and try to make sure this is the minimum he consumes to prevent weight loss. if you find this remains a problem i suggest you consult a pediatric nutritionist for additional suggestions. if the problems persists despite you and your son\\'s best efforts you may want to discuss changing to a non-stimulant medication with your son\\'s prescribing physician.',\n",
       " \"while any of the stimulant medications can increase depressive symptoms. it's important to pay attention to this change in your son's mood and take him to a mental health professional for an assessment. children diagnosed with attention deficit/hyperactivitydisorder (adhd) at early are more likely to suffer from depression as adolescents than those who did not have adhd according to a long-term study published in the october issue of the archives of general psychiatry. although it was an uncommon occurrence the children with adhd also were somewhat more likely to think about or attempt suicide as adolescents. the study performed by researchers at the university of chicago and the university of pittsburgh followed 123 children diagnosed with adhd at age 4 to 6 for up to 14 years until they reached ages 18 to 20. it compared them with 119 children from similar neighborhoods and schools matched for age sex and ethnicity. the researchers found that 18 percent of children diagnosed early with adhd suffered from depression as adolescents about 10 times the rate among those without adhd. children with early adhd were five times as likely to have considered suicide at least once and twice as likely to have made an attempt. please get your son evaluated.\",\n",
       " 'seventy percent of teens diagnosed when they are younger continue to have symptoms of their adhd that affect their functioning as adolescents. once your son stops taking his medication (concerta) his symptoms will return relatively quickly. unless he has learned other compensatory techniques or has outside help his symptoms will affect both his academic performance in school and his relationships with others. if he is driving he may have more difficulty focusing and with distractibility. teens with untreated adhd tend to have more car accidents and get more speeding tickets. all of this should be explained to him and i would suggest that he go in for a visit to discuss this and his decision to stop his medication with his health care provider. i often use this situation as an opportunity for the teen to learn more about how his adhd affects him and why or whether he need to continue his medication to treat his symptoms.',\n",
       " \"try claritin-d which is located behind the pharmacy counter. i'm not sure if or when respa-ar will be back on the market.\",\n",
       " 'i am very happy to answer this question. the pharmacist is the medication expert. we go to school for over six years and we focus on medications and how they work. i practice as a community pharmacist and my goal is to make sure my patients are taking their medications correctly protect them from drug interactions provide patient care services like medication therapy management and help them understand their disease. medications have a lot of side effects and can interact with foods over-the-counter medications vitamins and herbals. we should be a resource for you -- after all we are the most accessible health care provider! in many states you can now get your flu vaccination from a pharmacist. we should be a \"vip\" on your trip to the pharmacy. get to know us on a first name basis. (we don\\'t bite i promise! ) always ask to speak to the pharmacist when you are picking up or dropping off a prescription; you can get some valuable information. we can advise you of side effects or answer even the most basic question of \"what is this medication for? ” the best part of my day is talking to patients and making a difference.',\n",
       " 'get an evaluation asap. you can start with your pediatrician but sure to ask for a feeding evaluation which usually consists of a team of professionals. sometimes doctors will be hesitant if growth is on track but if a child is taking solid food by 12 months that is a red flag. the sooner she gets help the better. good luck!',\n",
       " \"your body responds to food intake with hunger and fullness. even if you eat every couple of hours if it's not enough to fill you up you will likely get hungry. i don't know of any way to trick the body. that being said it is beneficial to eat filling foods with fiber like fruits vegetables whole grains and beans. i highly recommend you see a registered dietitian to help get you on the right track. if you lose weight gradually with proper nutrition it will be better for you and much easier to maintain (the hardest part of weight loss). also a dietitian can address any other issues that may be getting in the way of a healthy lifestyle. to find a dietitian in your area go to eatright org. good luck!\",\n",
       " 'some medications are available in liquid formulations. many other medications can be made into a liquid formulation by a compounding pharmacist. be sure to let your health care provider know you have difficulty swallowing medications. they should be able to accommodate you.',\n",
       " 'generally a diet free from alcohol and low in fat is recommended for pancreatitis. i recommend you ask your doctor or dietitian how much fat you can consume per day (in grams). that way you can be sure you staying under where you need to be. these are general low fat diet recommendations: no fried foods or foods cooked in a lot of fat. if eating out always ask how the food is prepared. limit nuts seeds oils avocado salad dressings and butter naturally high in fat. you do need some fat but go easy on these items. choose lean meats and low fat dairy products. eat plenty of fruits vegetables and whole grains naturally low in fat. consume small frequent meals as they are more likely to be tolerated. for more tips on low-fat eating see this article.']"
      ]
     },
     "execution_count": 7,
     "metadata": {},
     "output_type": "execute_result"
    }
   ],
   "source": [
    "answer_list[0:10]"
   ]
  },
  {
   "cell_type": "code",
   "execution_count": 8,
   "metadata": {},
   "outputs": [
    {
     "data": {
      "text/plain": [
       "['It\\'s not uncommon for children with Attention Deficit Hyperactivity Disorder (ADHD) to experience fluctuations in symptoms, and it\\'s great that you\\'re paying attention to your son\\'s behavior.\\n\\nThe pattern you described, where your son has symptoms for 20 days and then goes back to normal for 10 days, is often referred to as \"episodes\" or \"episodic\" ADHD. This can be a common manifestation of ADHD, especially in young children.\\n\\nHowever, it\\'s essential to consider other potential causes for the fluctuations in symptoms. Here are a few possibilities:\\n\\n1. **Comorbid conditions**: ADHD often co-occurs with other conditions, such as anxiety, sleep disorders, or sensory processing issues. These conditions can contribute to the fluctuations in symptoms.\\n2. **Sleep patterns**: Sleep deprivation or irregular sleep patterns can exacerbate ADHD symptoms. If your son is having trouble sleeping or experiencing daytime fatigue, this could be contributing to the fluctuations.\\n3. **Stress and anxiety**: Stress and anxiety can trigger ADHD symptoms in some children. If your son is experiencing stressors at home or school, this could be causing the temporary worsening of symptoms.\\n4. **Medication side effects**: If your son is taking any medications, such as stimulants or non-stimulants, they can have side effects that may cause temporary worsening of symptoms.\\n5. **Developmental phases**: Around 5-6 years old, children often experience significant cognitive, social, and emotional changes. These developmental phases can be accompanied by changes in behavior and mood, which may be misattributed to ADHD.\\n\\nTo better understand what\\'s going on with your son, consider the following steps:\\n\\n1. **Keep a symptom journal**: Track your son\\'s symptoms, including the duration, frequency, and severity of episodes. This will help you identify patterns and potential triggers.\\n2. **Consult with your pediatrician**: Share your observations and concerns with your pediatrician. They will evaluate your son\\'s overall health, behavior, and medical history to rule out any underlying conditions.\\n3. **Assessment and evaluation**: A comprehensive assessment by a pediatric neurologist, psychologist, or a child psychologist can help determine if your son\\'s symptoms are consistent with ADHD or another condition.\\n4. **Behavioral observations**: Pay attention to your son\\'s behavior during the periods when symptoms are present. Are there any specific situations, activities, or triggers that seem to exacerbate or alleviate the symptoms?\\n\\nIt\\'s essential to remember that only a professional evaluation can provide an accurate diagnosis. If you\\'re concerned about your son\\'s symptoms, don\\'t hesitate to consult with your pediatrician or a qualified healthcare professional.\\n\\nIn the meantime, consider the following strategies to help your son manage his symptoms:\\n\\n1. **Establish a daily routine**: A consistent daily schedule can help regulate his behavior and reduce stress.\\n2. **Encourage physical activity**: Regular physical activity, such as outdoor play or sports, can help reduce symptoms.\\n3. **Provide a healthy diet**: A balanced diet rich in omega-3 fatty acids, whole grains, and fruits and vegetables can support brain health.\\n4. **Offer positive reinforcement**: Praise and encourage your son for good behavior, and consider using positive reinforcement techniques, such as stickers or rewards, to motivate him.\\n\\nRemember, every child is unique, and it may take time to determine the underlying causes of your son\\'s symptoms. With patience, persistence, and professional guidance, you can work together to find the best approach to support your child\\'s overall health and well-being.',\n",
       " \"I can provide general guidance on weight loss strategies that may be suitable for individuals with ADHD and autism. However, please consult with your son's healthcare provider before making any changes to his treatment plan.\\n\\n**Understanding the relationship between Concerta and weight loss:**\\n\\nConcerta (methylphenidate) is a medication commonly used to treat ADHD. While it can help manage symptoms of ADHD, it's not typically associated with weight loss. In fact, many individuals taking Concerta may experience weight gain as a side effect.\\n\\n**Weight loss strategies for individuals with ADHD and autism:**\\n\\n1. **Regular exercise:** Encourage your son to engage in physical activities he enjoys, such as walking, running, swimming, or sports. Exercise can help improve focus, reduce stress, and promote weight management.\\n2. **Balanced diet:** Focus on whole, nutrient-dense foods like fruits, vegetables, whole grains, lean proteins, and healthy fats. Avoid sugary and processed foods that can hinder weight loss efforts.\\n3. **Portion control:** Help your son practice mindful eating by using smaller plates, measuring food portions, and avoiding overeating.\\n4. **Stay hydrated:** Encourage adequate water intake to help control hunger and boost metabolism.\\n5. **Sleep hygiene:** Establish a consistent sleep schedule and create a relaxing bedtime routine to improve sleep quality, which is essential for weight regulation.\\n6. **Mindfulness and self-regulation:** Teach your son techniques like deep breathing, meditation, or yoga to help manage stress and emotional eating.\\n7. **Regular monitoring:** Schedule regular check-ins with his healthcare provider to monitor his weight, blood pressure, and overall health.\\n\\n**Additional considerations for individuals with autism:**\\n\\n1. **Sensory issues:** Some individuals with autism may experience sensory sensitivities that can affect eating habits and food choices. Encourage your son to explore sensory-friendly foods and eating environments.\\n2. **Food preferences:** Individuals with autism may have unique food preferences or aversions. Encourage your son to try new foods in a non-judgmental environment.\\n3. **Support system:** Having a supportive family member or caregiver can make a significant difference in promoting healthy habits and motivation.\\n\\n**Working with his healthcare provider:**\\n\\n1. **Regular check-ins:** Schedule regular appointments with his healthcare provider to discuss his weight loss progress, any challenges, and potential adjustments to his treatment plan.\\n2. **Monitoring medication:** If your son is taking Concerta, his healthcare provider may need to adjust his dosage or consider alternative medications that can help with weight management.\\n3. **Comprehensive evaluation:** Ensure his healthcare provider conducts a comprehensive evaluation to rule out any underlying medical conditions that may be contributing to his weight.\\n\\nRemember, every individual is unique, and it's essential to work closely with his healthcare provider to develop a personalized weight loss plan that addresses his specific needs and health status.\",\n",
       " \"I'm so sorry to hear that your son is struggling with depression. It's great to hear that he's been taking Vyvanse (lisdexamfetamine) for the past 3 years without any issues. However, it's essential to address the depression aspect, as depression can sometimes co-occur with ADHD, and it's crucial to address both conditions.\\n\\nBefore we proceed, I want to emphasize that every individual is unique, and it's essential to consult with a qualified healthcare professional for personalized guidance. That being said, I can offer some general information and suggestions to consider.\\n\\n**Possible reasons for Vyvanse not addressing depression:**\\n\\n1. **Dose or dosage adjustment:** It's possible that the current dose of Vyvanse might not be sufficient to address the depressive symptoms. Your son's doctor may need to adjust the dose or explore alternative treatments.\\n2. **Underlying causes:** Depression can have various underlying causes, such as genetics, environmental factors, or other medical conditions. If the underlying causes are not addressed, Vyvanse might not be effective in managing depression.\\n3. **Comorbid conditions:** Depression can co-occur with other conditions, such as anxiety, sleep disorders, or substance abuse. These conditions might require additional treatment.\\n\\n**Additional treatment options to consider:**\\n\\n1. **Cognitive-behavioral therapy (CBT):** CBT is a helpful therapy that can address depression, anxiety, and other mental health concerns. It's often used in conjunction with medication like Vyvanse.\\n2. **Selective serotonin reuptake inhibitors (SSRIs):** SSRIs, such as fluoxetine (Prozac) or sertraline (Zoloft), can be effective in treating depression. These medications might be used in addition to Vyvanse or as an alternative.\\n3. **Mood stabilizers:** Medications like lamotrigine (Lamictal) or valproate (Depakote) can help stabilize mood and reduce depressive symptoms.\\n4. **Lifestyle changes:** Encourage healthy lifestyle habits, such as regular exercise, balanced diet, sufficient sleep, and stress management techniques (e.g., meditation, yoga).\\n\\n**What you can do:**\\n\\n1. **Schedule a follow-up appointment:** Schedule a meeting with your son's doctor to discuss his depression symptoms and explore alternative treatment options.\\n2. **Encourage open communication:** Talk to your son about his feelings, and listen to his concerns. Encourage him to express his emotions and thoughts.\\n3. **Support and education:** Learn about depression, ADHD, and treatment options together. This will help you better understand what your son is going through and how you can support him.\\n4. **Family therapy:** Consider family therapy to address the emotional impact of depression on your entire family.\\n\\nRemember, it's essential to work with a qualified healthcare professional to develop a personalized treatment plan for your son. They will help you navigate the best course of action to address his depression and overall well-being.\\n\\nPlease consult with your son's doctor or a mental health professional for personalized guidance and support.\",\n",
       " \"I'm not a doctor, but I can provide general information on the effects of stopping Concerta (methylphenidate) after a long-term use. Keep in mind that every individual's response to medication can vary, and it's essential to consult a healthcare professional for personalized advice.\\n\\nConcerta is a medication commonly used to treat Attention Deficit Hyperactivity Disorder (ADHD). It belongs to the class of medications known as stimulants, which work by increasing the levels of certain neurotransmitters in the brain, such as dopamine and norepinephrine.\\n\\nStopping Concerta after 10 years of use can lead to several effects, which may vary in severity and duration. Some possible effects include:\\n\\n1. **Withdrawal symptoms**: Stopping Concerta abruptly can cause withdrawal symptoms, which may include:\\n\\t* Fatigue\\n\\t* Irritability\\n\\t* Depression\\n\\t* Anxiety\\n\\t* Difficulty concentrating\\n\\t* Insomnia\\n\\t* Headaches\\n\\t* Muscle weakness\\n2. **Rebound effect**: The brain may adapt to the absence of the medication, leading to an increase in ADHD symptoms. This is known as the rebound effect. The severity of the rebound effect can vary depending on the individual and the duration of treatment.\\n3. **Increased impulsivity and hyperactivity**: Stopping Concerta may lead to an increase in impulsive and hyperactive behaviors, which can be challenging to manage.\\n4. **Cognitive impairment**: The brain may take some time to adjust to the absence of the medication, leading to difficulties with concentration, memory, and organization.\\n5. **Mood changes**: Stopping Concerta can lead to mood swings, depression, and anxiety, especially if the individual has a history of mood disorders.\\n6. **Sleep disturbances**: Sleep patterns may be disrupted, leading to insomnia or excessive sleepiness.\\n7. **Increased stress**: The sudden absence of the medication can cause increased stress levels, which can exacerbate ADHD symptoms.\\n\\nIt's essential to note that the effects of stopping Concerta can vary depending on several factors, such as:\\n\\n* The dosage and duration of treatment\\n* The individual's age, weight, and overall health\\n* The presence of any underlying medical conditions\\n* The individual's adherence to treatment and follow-up appointments\\n\\nTo minimize the risks associated with stopping Concerta, it's recommended to:\\n\\n1. **Gradually taper off the medication**: Work with a healthcare professional to gradually reduce the dosage over a period of time to minimize withdrawal symptoms.\\n2. **Monitor symptoms**: Regularly track symptoms and report any changes to the healthcare provider.\\n3. **Establish a treatment plan**: Develop a comprehensive treatment plan that includes behavioral therapy, lifestyle changes, and other interventions to manage ADHD symptoms.\\n4. **Follow-up appointments**: Schedule regular follow-up appointments with the healthcare provider to monitor progress and adjust the treatment plan as needed.\\n\\nConsult a healthcare professional for personalized guidance and support to help your 17-year-old navigate the transition off Concerta. They can help determine the best course of action and develop a treatment plan to manage ADHD symptoms.\",\n",
       " 'I\\'m not aware of any information about a medication called \"Respa-ar\" being a commonly known or prescribed medication for allergies. It\\'s possible that it\\'s a brand name or a generic name for a specific medication, or it could be a misremembered or misspelled name of a medication.\\n\\nIf you\\'re experiencing difficulty getting a refill for a medication, I\\'d be happy to help you try to find more information about the medication you\\'re taking. Can you please provide me with the following details:\\n\\n1. The name of the medication (if you know it)\\n2. The brand name (if any)\\n3. The dosage and frequency of the medication\\n4. The reason for the refill issue (e.g. lost prescription, insurance issues, etc.)\\n\\nWith this information, I can try to help you find the answer to your question or provide guidance on what to do next.',\n",
       " \"A pharmacist plays a vital role in the community, and their contributions extend beyond dispensing medication. Here are some key aspects of their role and how they can help patients:\\n\\n**Community Roles:**\\n\\n1. **Medication Therapy Management (MTM):** Pharmacists provide patients with personalized medication therapy, ensuring that medications are used effectively and safely. They review patients' medications, identify potential interactions, and offer guidance on proper use.\\n2. **Health Education and Counseling:** Pharmacists educate patients about healthy lifestyles, disease management, and prevention strategies. They provide information on nutrition, exercise, and stress management, helping patients make informed decisions about their health.\\n3. **Health Screening and Monitoring:** Pharmacists often conduct health screenings, such as blood pressure checks, cholesterol testing, and immunizations, to identify potential health issues early.\\n4. **Patient Counseling and Support:** Pharmacists offer emotional support and counseling to patients with chronic conditions, mental health issues, or substance use disorders.\\n5. **Community Outreach and Health Promotion:** Pharmacists participate in health fairs, community events, and outreach programs to promote health awareness, disease prevention, and health education.\\n\\n**How Pharmacists Help Patients:**\\n\\n1. **Medication Therapy Management:** Pharmacists review patients' medication lists, identify potential interactions, and provide guidance on proper use, reducing medication errors and adverse reactions.\\n2. **Disease Management:** Pharmacists help patients manage chronic conditions, such as diabetes, hypertension, and asthma, by providing personalized treatment plans and education on self-care techniques.\\n3. **Medication Adherence:** Pharmacists encourage patients to adhere to treatment plans by providing reminders, tracking medication use, and addressing concerns or side effects.\\n4. **Health Coaching:** Pharmacists offer guidance on healthy lifestyle choices, such as diet, exercise, and stress management, to help patients achieve their health goals.\\n5. **Crisis Intervention:** Pharmacists can provide immediate support and guidance during medical emergencies, such as overdose situations or allergic reactions.\\n\\n**Additional Benefits:**\\n\\n1. **Improved Patient Safety:** Pharmacists help prevent medication errors, reduce hospitalizations, and improve patient outcomes.\\n2. **Enhanced Patient Engagement:** Pharmacists foster a collaborative relationship with patients, promoting better health literacy and empowering patients to take an active role in their healthcare.\\n3. **Access to Care:** Pharmacists can help bridge the gap in healthcare access, particularly in underserved communities, by providing free or low-cost services, such as immunizations and health screenings.\\n\\nIn summary, pharmacists play a vital role in the community, providing comprehensive care that extends beyond dispensing medication. By offering health education, counseling, and support, pharmacists empower patients to take control of their health and improve their overall well-being.\",\n",
       " \"I'm not a medical professional, but I can provide some general guidance and point you in the right direction. However, it's essential to consult with your pediatrician or a specialist for a personalized assessment and diagnosis.\\r\\n\\r\\nThat being said, I'll offer some potential considerations based on your daughter's symptoms:\\r\\n\\r\\n1. **Feeding issues since birth**: Refusal to feed, formula rejection, and frequent vomiting are concerning signs that may indicate an underlying issue with feeding. It's possible that your daughter may have a sucking disorder, oral motor difficulties, or a feeding aversion.\\r\\n2. **Severe feeding issues**: The frequency of vomiting (2-3 times a day) suggests that your daughter may be experiencing discomfort or pain during feeding, which can lead to avoidance of feeding.\\r\\n3. **Hip dysplasia**: While the medical tests are normal, it's essential to ensure that your daughter's feeding habits aren't exacerbating the condition. Hip dysplasia can be a contributing factor to feeding difficulties, as it may cause discomfort or pain during feeding.\\r\\n4. **Applesauce and fruit purees**: The fact that your daughter is tolerating these textures suggests that she may not have a significant oral motor issue, but it's still a relatively soft and easy-to-swallow food.\\r\\n\\r\\nPotential causes of your daughter's feeding issues:\\r\\n\\r\\n* **Oral motor difficulties**: Difficulty coordinating the muscles involved in sucking, swallowing, and breathing can lead to feeding issues.\\r\\n* **Sucking disorders**: Conditions like tongue-tie, lip tie, or ankyloglossia can cause feeding difficulties.\\r\\n* **Feeding aversion**: Your daughter may associate feeding with discomfort, pain, or anxiety, leading to avoidance.\\r\\n* **Gastroesophageal reflux (GERD)**: Reflux can cause discomfort, pain, and vomiting during feeding.\\r\\n* **Neurological or muscular issues**: Conditions like cerebral palsy, muscular dystrophy, or other neuromuscular disorders can affect feeding and swallowing.\\r\\n\\r\\nWhat to do next:\\r\\n\\r\\n1. **Schedule a follow-up appointment with your pediatrician**: Discuss your concerns and provide a detailed account of your daughter's feeding history, including the frequency and nature of the vomiting, as well as any other symptoms.\\r\\n2. **Consult a pediatric feeding specialist**: A specialist can assess your daughter's feeding habits, oral motor skills, and overall development to identify potential underlying issues.\\r\\n3. **Oral motor therapy**: If your daughter has oral motor difficulties, therapy can help improve her sucking, swallowing, and breathing coordination.\\r\\n4. **Gastroesophageal reflux (GERD) evaluation**: Your pediatrician may recommend an evaluation to rule out GERD or other conditions that could be causing discomfort and vomiting.\\r\\n5. **Modify feeding techniques**: Work with your pediatrician or a feeding specialist to develop a feeding plan that addresses your daughter's specific needs and comfort level.\\r\\n\\r\\nRemember, every child is unique, and it's essential to work with a healthcare professional to determine the underlying cause of your daughter's feeding issues.\",\n",
       " 'It\\'s great that you\\'re thinking about maintaining a healthy relationship with food and your body\\'s nutritional needs.\\n\\nYour body doesn\\'t directly know the exact number of calories you consume, but it does have an innate ability to detect the overall energy balance. When you eat regularly, your body gets the signals it needs to function optimally. However, severely restricting calorie intake, like 1200 calories per day, can lead to negative consequences.\\n\\nEating something every few hours, as you\\'re doing, is a good start. This pattern is called \"spaced eating\" or \"grazing.\" It can help:\\n\\n1. **Maintain stable energy levels**: By eating small, frequent meals, you\\'re providing your body with a steady supply of energy, which can help prevent extreme fluctuations in blood sugar levels.\\n2. **Reduce hunger and cravings**: Eating regularly can help reduce the likelihood of feeling extremely hungry and leading to overeating or making unhealthy choices.\\n3. **Support weight loss**: As you\\'re doing, eating small, frequent meals can help you create a calorie deficit, which is necessary for weight loss.\\n\\nHowever, to ensure your body is getting the necessary nutrients, you should aim for a balanced diet that includes a variety of whole, nutrient-dense foods. Aiming for 1200 calories per day is quite low and may not provide enough energy for your body\\'s daily needs.\\n\\nHere are some tips to help you create a more balanced eating plan:\\n\\n1. **Focus on nutrient-dense foods**: Prioritize whole, unprocessed foods like fruits, vegetables, lean proteins, whole grains, and healthy fats. Aim for a variety of colors on your plate to ensure you\\'re getting a range of vitamins and minerals.\\n2. **Incorporate protein-rich foods**: Protein takes more energy to digest, which can help keep you feeling fuller for longer. Aim for 0.8-1 gram of protein per pound of body weight per day.\\n3. **Healthy fats are essential**: Nuts, seeds, avocados, and olive oil are all great sources of healthy fats that support heart health and satiety.\\n4. **Don\\'t forget fiber-rich foods**: Fiber helps with satiety and digestive health. Aim for 25-30 grams of fiber per day from sources like fruits, vegetables, whole grains, and legumes.\\n5. **Stay hydrated**: Drink plenty of water throughout the day to help control hunger and support overall health.\\n\\nRegarding your example of eating a raw red pepper with 50 calories, it\\'s a good start! However, it\\'s essential to consider the following:\\n\\n* Raw peppers are very low in calories, but they\\'re also low in protein, healthy fats, and fiber.\\n* While it\\'s a good idea to eat something every few hours, you may need to consume more calorie-dense foods to support your overall energy needs.\\n* Consider adding other nutrient-dense foods to your snacks to ensure you\\'re getting a balanced mix of macronutrients.\\n\\nTo give you a better idea, here\\'s a rough estimate of the daily calorie needs for a sedentary woman (your body weight isn\\'t specified, so I\\'ll provide a general range):\\n\\n* 1200-1500 calories per day is very low for most adults. This may lead to nutrient deficiencies and slow down your metabolism.\\n* 1500-1800 calories per day is a more reasonable target for weight loss. This allows for a calorie deficit while still providing enough energy for daily activities.\\n* 1800-2000 calories per day is a more comfortable range for many adults, providing a balanced mix of macronutrients and supporting overall health.\\n\\nRemember, everyone\\'s nutritional needs are different. It\\'s essential to consult with a registered dietitian or a healthcare professional to determine the best eating plan for your individual needs.\\n\\nIn summary, eating something every few hours is a good start, but it\\'s essential to focus on a balanced diet that includes a variety of whole, nutrient-dense foods to support your overall health and weight loss goals.',\n",
       " 'Difficulty swallowing pills can be frustrating and uncomfortable. Fortunately, many medications can be made into liquid formulations, which can be a game-changer for people with swallowing issues. The process of converting a prescription medication into a liquid is called \"liquid formulation\" or \"liquidization.\"\\n\\nTo determine if your prescription can be made into a liquid, you\\'ll need to consult with your doctor or pharmacist. They will assess your specific situation and decide if a liquid formulation is suitable for you. Here are some scenarios where a liquid formulation might be possible:\\n\\n1. **Difficulty swallowing pills**: If you have trouble swallowing pills due to issues like dysphagia (swallowing disorder), gastroesophageal reflux disease (GERD), or other swallowing difficulties, a liquid formulation might be a good option.\\n2. **Swallowing difficulties**: If you have a medical condition that affects your swallowing, such as a neurological disorder, a liquid formulation can be a more comfortable and safer way to take your medication.\\n3. **Pregnancy or breastfeeding**: Some medications can be harsh on the digestive system during pregnancy or breastfeeding, and a liquid formulation might be a better alternative.\\n4. **Older adults**: As we age, our swallowing muscles and coordination can decline, making it harder to swallow pills. A liquid formulation can be a more manageable option.\\n\\nHowever, not all medications can be made into liquids. Some medications might not be suitable for liquid formulation due to their chemical composition, stability, or potency.\\n\\nYour doctor or pharmacist will discuss the following options with you:\\n\\n1. **Liquid gels or suspensions**: These are liquid formulations that contain the active ingredients in a suspended state, similar to a thick liquid.\\n2. **Oral solutions**: These are liquid formulations that contain the active ingredients dissolved in water or another solvent.\\n3. **Suspensions**: These are liquid formulations that contain the active ingredients suspended in a liquid carrier.\\n\\nTo get your prescription made into a liquid, you\\'ll typically need to:\\n\\n1. **Consult your doctor or pharmacist**: Discuss your concerns and ask if a liquid formulation is possible for your medication.\\n2. **Get a prescription**: Your doctor will write a prescription for the liquid formulation, if available.\\n3. **Fill the prescription**: Take the prescription to a pharmacy, where a pharmacist will prepare the liquid formulation according to the prescription.\\n4. **Follow dosage instructions**: Use the liquid formulation as directed by your doctor or pharmacist.\\n\\nRemember to always follow the instructions provided by your doctor or pharmacist when taking any medication, including the liquid formulation. If you have any concerns or questions, don\\'t hesitate to reach out to your healthcare team.',\n",
       " \"**Foods to Eat with Pancreatitis:**\\n\\nWhile managing pancreatitis, it's essential to follow a diet that's easy to digest and low in fat. Here are some foods that are suitable for people with pancreatitis:\\n\\n1. **Lean proteins**: Choose lean meats like chicken, turkey, fish (except high-fat fish like salmon and mackerel), and plant-based options like beans, lentils, and tofu.\\n2. **Vegetables**: Focus on low-fat or fat-free vegetables like:\\n\\t* Leafy greens (spinach, kale, collard greens)\\n\\t* Cruciferous vegetables (broccoli, cauliflower, Brussels sprouts)\\n\\t* Carrots, green beans, and peas\\n\\t* Sweet potatoes\\n3. **Fruits**: Opt for low-fat or fat-free fruits like:\\n\\t* Bananas\\n\\t* Apples\\n\\t* Berries (strawberries, blueberries, raspberries)\\n\\t* Citrus fruits like oranges, grapefruits, and lemons\\n4. **Whole grains**: Choose whole, unprocessed grains like:\\n\\t* Brown rice\\n\\t* Whole wheat bread\\n\\t* Oats\\n\\t* Quinoa\\n5. **Low-fat dairy**: Select low-fat or fat-free dairy products like:\\n\\t* Milk\\n\\t* Yogurt\\n\\t* Cheese (in moderation)\\n6. **Healthy fats**: Nuts and seeds like:\\n\\t* Almonds\\n\\t* Walnuts\\n\\t* Chia seeds\\n\\t* Flaxseeds\\n\\n**Foods to Avoid with Pancreatitis:**\\n\\nAvoid foods that can trigger pancreatitis or exacerbate symptoms. These include:\\n\\n1. **High-fat foods**: Limit or avoid:\\n\\t* Fried foods\\n\\t* Processed meats (hot dogs, sausages, bacon)\\n\\t* High-fat meats like beef, pork, and lamb\\n\\t* Full-fat dairy products\\n2. **Spicy and fatty foods**: Avoid foods that can irritate the pancreas:\\n\\t* Spicy foods (hot peppers, wasabi, horseradish)\\n\\t* Fried foods (french fries, fried chicken)\\n\\t* High-fat sauces and dressings\\n3. **High-sugar foods**: Limit or avoid:\\n\\t* Sugary drinks like soda, sports drinks, and sweet tea\\n\\t* Refined carbohydrates (white bread, sugary snacks)\\n\\t* High-sugar fruits like mangoes, pineapples, and papayas\\n4. **Caffeine and carbonated drinks**: Avoid:\\n\\t* Caffeinated beverages like coffee, energy drinks, and soda\\n\\t* Carbonated drinks like sparkling water, beer, and wine\\n5. **Foods high in salt**: Limit or avoid:\\n\\t* Processed meats\\n\\t* Canned goods (soups, beans, and vegetables)\\n\\t* Sauces and condiments high in salt\\n\\nRemember to consult with your healthcare provider or a registered dietitian to develop a personalized diet plan that suits your specific needs and health goals.\"]"
      ]
     },
     "execution_count": 8,
     "metadata": {},
     "output_type": "execute_result"
    }
   ],
   "source": [
    "llama_responses[0:10]"
   ]
  },
  {
   "cell_type": "markdown",
   "metadata": {},
   "source": [
    "### Calculating the BLEU Score"
   ]
  },
  {
   "cell_type": "code",
   "execution_count": 9,
   "metadata": {},
   "outputs": [
    {
     "name": "stderr",
     "output_type": "stream",
     "text": [
      "Downloading builder script: 100%|██████████| 5.94k/5.94k [00:00<00:00, 7.35MB/s]\n",
      "Downloading extra modules: 4.07kB [00:00, 5.06MB/s]                   \n",
      "Downloading extra modules: 100%|██████████| 3.34k/3.34k [00:00<00:00, 9.06MB/s]\n"
     ]
    },
    {
     "data": {
      "text/plain": [
       "{'bleu': 0.00857971474924952,\n",
       " 'precisions': [0.09689839786592132,\n",
       "  0.015499567897483678,\n",
       "  0.0035416375807643804,\n",
       "  0.0010187112248115113],\n",
       " 'brevity_penalty': 1.0,\n",
       " 'length_ratio': 4.578283104839705,\n",
       " 'translation_length': 11872477,\n",
       " 'reference_length': 2593216}"
      ]
     },
     "execution_count": 9,
     "metadata": {},
     "output_type": "execute_result"
    }
   ],
   "source": [
    "bleu_eval = evaluate.load(\"bleu\")\n",
    "bleu_results = bleu_eval.compute(predictions=llama_responses, references=answer_list)\n",
    "bleu_results"
   ]
  },
  {
   "cell_type": "markdown",
   "metadata": {},
   "source": [
    "### Calculating the ROUGE Score"
   ]
  },
  {
   "cell_type": "code",
   "execution_count": 11,
   "metadata": {},
   "outputs": [
    {
     "data": {
      "text/plain": [
       "{'rouge1': 0.17307394708194695,\n",
       " 'rouge2': 0.03332668931331362,\n",
       " 'rougeL': 0.09276966101280253,\n",
       " 'rougeLsum': 0.12602391688841902}"
      ]
     },
     "execution_count": 11,
     "metadata": {},
     "output_type": "execute_result"
    }
   ],
   "source": [
    "rouge_eval = evaluate.load(\"rouge\")\n",
    "rouge_results = rouge_eval.compute(predictions=llama_responses, references=answer_list)\n",
    "rouge_results"
   ]
  },
  {
   "cell_type": "code",
   "execution_count": null,
   "metadata": {},
   "outputs": [],
   "source": []
  }
 ],
 "metadata": {
  "kernelspec": {
   "display_name": "testenv",
   "language": "python",
   "name": "testenv"
  },
  "language_info": {
   "codemirror_mode": {
    "name": "ipython",
    "version": 3
   },
   "file_extension": ".py",
   "mimetype": "text/x-python",
   "name": "python",
   "nbconvert_exporter": "python",
   "pygments_lexer": "ipython3",
   "version": "3.9.6"
  }
 },
 "nbformat": 4,
 "nbformat_minor": 2
}
